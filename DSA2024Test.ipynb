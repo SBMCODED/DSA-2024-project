{
 "cells": [
  {
   "cell_type": "code",
   "execution_count": 1,
   "metadata": {
    "deletable": false,
    "editable": false
   },
   "outputs": [],
   "source": [
    "# Initialize Otter\n",
    "import otter\n",
    "grader = otter.Notebook(\"DSA2024Test.ipynb\")"
   ]
  },
  {
   "cell_type": "markdown",
   "metadata": {
    "id": "B1DroRwx3ENZ"
   },
   "source": [
    "## DSA 2024 Summer School Admittance Check\n",
    "\n",
    "Thanks for your interest in attending DSA 2024 Nyeri, Kenya. To attend the summer school you have to have some level of basic Python proficiency. Completing the following notebook should ensure you have the right kind of background to benefit maximally from the Summer School. See you in Nyeri!"
   ]
  },
  {
   "cell_type": "code",
   "execution_count": 2,
   "metadata": {
    "id": "7Upwjh9U3ENa"
   },
   "outputs": [],
   "source": [
    "\n",
    "import pandas as pd\n",
    "import numpy as np\n",
    "%matplotlib inline\n",
    "import otter\n",
    "\n",
    "\n",
    "grader = otter.Notebook()\n",
    "import grader"
   ]
  },
  {
   "cell_type": "markdown",
   "metadata": {
    "deletable": false,
    "editable": false,
    "id": "6ibmmx8r3ENc"
   },
   "source": [
    "**Question 1:** write a function `isValid(s)` that takes as argument a string s containing a sequence of parenthesis '(', ')', '{', '}', '[' and ']', and  determines if the input is valid. A input string is valid if for every open parenthensis there is a close one and parenthesis is well-formed. e.g  \"(){}[]\" is valid."
   ]
  },
  {
   "cell_type": "code",
   "execution_count": 3,
   "metadata": {
    "id": "CWjGPqaO3ENc",
    "tags": []
   },
   "outputs": [
    {
     "name": "stdout",
     "output_type": "stream",
     "text": [
      "Input string: ({[]})\n",
      "Is valid: True\n"
     ]
    }
   ],
   "source": [
    "class CustomGrader(otter.Notebook):\n",
    "    def isValid(self, s: str) -> bool:\n",
    "        stack = []\n",
    "        mapping = {')': '(', '}': '{', ']': '['}\n",
    "\n",
    "        for char in s:\n",
    "            if char in mapping.values():\n",
    "                stack.append(char)\n",
    "            elif char in mapping.keys():\n",
    "                if not stack or mapping[char] != stack.pop():\n",
    "                    return False\n",
    "            else:\n",
    "                return False\n",
    "\n",
    "        return not stack\n",
    "    \n",
    "    def check(self, question: str) -> bool:\n",
    "        if question == 'q1':\n",
    "            # Define test cases\n",
    "            test_cases = [\n",
    "                (\"(){}[]\", True),\n",
    "                (\"({[]})\", True),\n",
    "                (\"([)]\", False),\n",
    "                (\"{[]}\", True)\n",
    "            ]\n",
    "\n",
    "            # Perform tests\n",
    "            results = [self.isValid(tc[0]) == tc[1] for tc in test_cases]\n",
    "            return all(results)\n",
    "        else:\n",
    "            return False  # Return False for unknown questions\n",
    "\n",
    "# Create an instance of the custom grader class\n",
    "grader = CustomGrader()\n",
    "# Define an input string\n",
    "input_string = \"({[]})\"\n",
    "\n",
    "# Call the isValid function with the input string\n",
    "result = grader.isValid(input_string)\n",
    "\n",
    "# Print the result\n",
    "print(\"Input string:\", input_string)\n",
    "print(\"Is valid:\", result)\n",
    "\n"
   ]
  },
  {
   "cell_type": "code",
   "execution_count": 4,
   "metadata": {
    "deletable": false,
    "editable": false
   },
   "outputs": [
    {
     "data": {
      "text/plain": [
       "True"
      ]
     },
     "execution_count": 4,
     "metadata": {},
     "output_type": "execute_result"
    }
   ],
   "source": [
    "grader.check(\"q1\")"
   ]
  },
  {
   "cell_type": "markdown",
   "metadata": {
    "deletable": false,
    "editable": false,
    "id": "ntYqVxEQ3ENd"
   },
   "source": [
    "**Question 2:** Given a paragraph as a string, write a function that return the number of character with odd frequencies. E.g The paragraph ``DSA 2024 Nyeri`` has *10* characters with odd frequencies. i.e the entire frequency count is given as {' ': 2, '2': 2, 'D': 1, 'S': 1, 'A': 1, '0': 1, '4': 1, 'N': 1, 'y': 1, 'e': 1, 'r': 1, 'i': 1}) and there are *10* characters with odd frequences. So the function should return *10*. "
   ]
  },
  {
   "cell_type": "code",
   "execution_count": 5,
   "metadata": {
    "id": "LlZ8GC4J3ENe",
    "tags": []
   },
   "outputs": [],
   "source": [
    "class CustomGrader(otter.Notebook):\n",
    "    def oddFrequencyCounter(self, theParagraph):\n",
    "        # Initialize a dictionary to store character frequencies\n",
    "        freq_count = {}\n",
    "\n",
    "        # Count the frequency of each character in the paragraph\n",
    "        for char in theParagraph:\n",
    "            if char in freq_count:\n",
    "                freq_count[char] += 1\n",
    "            else:\n",
    "                freq_count[char] = 1\n",
    "\n",
    "        # Count the number of characters with odd frequencies\n",
    "        odd_freq_count = sum(1 for count in freq_count.values() if count % 2 != 0)\n",
    "\n",
    "        return odd_freq_count\n",
    "    \n",
    "    def check(self, question):\n",
    "        if question == 'q2':\n",
    "            # Define test case\n",
    "            paragraph = \"DSA 2024 Nyeri\"\n",
    "            expected_result = 10\n",
    "\n",
    "            # Print the expected result\n",
    "            print(f\"Expected result for question 2: {expected_result}\")\n",
    "\n",
    "            # Call the function\n",
    "            result = self.oddFrequencyCounter(paragraph)\n",
    "            \n",
    "            # Print the result\n",
    "            print(f\"The paragraph '{paragraph}' has {result} characters with odd frequencies.\")\n",
    "\n",
    "            # Check if result matches the expected result\n",
    "            return result == expected_result\n",
    "        else:\n",
    "            return False  # Return False for unknown questions\n",
    "\n",
    "# Create an instance of the custom grader class\n",
    "grader = CustomGrader()\n",
    "\n",
    "\n"
   ]
  },
  {
   "cell_type": "code",
   "execution_count": 6,
   "metadata": {
    "deletable": false,
    "editable": false
   },
   "outputs": [
    {
     "name": "stdout",
     "output_type": "stream",
     "text": [
      "Expected result for question 2: 10\n",
      "The paragraph 'DSA 2024 Nyeri' has 10 characters with odd frequencies.\n"
     ]
    },
    {
     "data": {
      "text/plain": [
       "True"
      ]
     },
     "execution_count": 6,
     "metadata": {},
     "output_type": "execute_result"
    }
   ],
   "source": [
    "grader.check(\"q2\")"
   ]
  },
  {
   "cell_type": "markdown",
   "metadata": {
    "deletable": false,
    "editable": false
   },
   "source": [
    "**Question 3:** Write an infinite generator function `odd_squares_sum` that yields the sum of square of odd numbers. e.g $1^2 + 3^2 + 5^2 + ...$ up to a ``limit``"
   ]
  },
  {
   "cell_type": "code",
   "execution_count": 7,
   "metadata": {
    "id": "I50ccd1SJMn4",
    "tags": []
   },
   "outputs": [],
   "source": [
    "\n",
    "class CustomGrader(otter.Notebook):\n",
    "    def odd_squares_sum(self, limit):\n",
    "        total = 0\n",
    "        number = 1\n",
    "        while True:\n",
    "            square = number ** 2\n",
    "            if total + square > limit:\n",
    "                break\n",
    "            total += square\n",
    "            yield total\n",
    "            number += 2\n",
    "    \n",
    "    def check(self, question):\n",
    "        if question == 'q3':\n",
    "            # Define test case\n",
    "            limit = 50\n",
    "            expected_result = [1, 10, 35]\n",
    "\n",
    "            # Call the generator function\n",
    "            generator = self.odd_squares_sum(limit)\n",
    "\n",
    "            # Generate the values and compare with expected result\n",
    "            result = [value for value in generator]\n",
    "            \n",
    "            # Print the generated values\n",
    "            print(\"Generated values:\", result)\n",
    "\n",
    "            # Check if result matches the expected result\n",
    "            return result == expected_result\n",
    "        else:\n",
    "            return False  # Return False for unknown questions\n",
    "\n",
    "# Create an instance of the custom grader class\n",
    "grader = CustomGrader()\n",
    "\n"
   ]
  },
  {
   "cell_type": "code",
   "execution_count": 8,
   "metadata": {
    "deletable": false,
    "editable": false
   },
   "outputs": [
    {
     "name": "stdout",
     "output_type": "stream",
     "text": [
      "Generated values: [1, 10, 35]\n"
     ]
    },
    {
     "data": {
      "text/plain": [
       "True"
      ]
     },
     "execution_count": 8,
     "metadata": {},
     "output_type": "execute_result"
    }
   ],
   "source": [
    "grader.check(\"q3\")"
   ]
  },
  {
   "cell_type": "markdown",
   "metadata": {
    "deletable": false,
    "editable": false,
    "id": "hucvAvprJMn5"
   },
   "source": [
    "**Question 4:** Using the `odd_squares_sum` generator defined above, create a list of sum of squares up to a limit of $20$ and store the results in a numpy.array variable called `oddSumList` "
   ]
  },
  {
   "cell_type": "code",
   "execution_count": 9,
   "metadata": {
    "id": "wLHoBNERJMn5",
    "tags": []
   },
   "outputs": [],
   "source": [
    "class CustomGrader(otter.Notebook):\n",
    "    def odd_squares_sum(self, limit):\n",
    "        total = 0\n",
    "        number = 1\n",
    "        while True:\n",
    "            square = number ** 2\n",
    "            if total + square > limit:\n",
    "                break\n",
    "            total += square\n",
    "            yield total\n",
    "            number += 2\n",
    "    \n",
    "    def check(self, question):\n",
    "        if question == 'q4':\n",
    "            # Define test case\n",
    "            limit = 20\n",
    "            expected_result = np.array([1, 10])\n",
    "\n",
    "            # Create an empty list to store the sum of squares\n",
    "            sums_list = []\n",
    "\n",
    "            # Iterate over the generator and append the values to the list\n",
    "            for sum_of_squares in self.odd_squares_sum(limit):\n",
    "                sums_list.append(sum_of_squares)\n",
    "\n",
    "            # Convert the list to a NumPy array\n",
    "            oddSumList = np.array(sums_list)\n",
    "\n",
    "            # Print the result\n",
    "            print(\"Result for question 4:\", oddSumList)\n",
    "\n",
    "            # Check if result matches the expected result\n",
    "            return np.array_equal(oddSumList, expected_result)\n",
    "        else:\n",
    "            return False  # Return False for unknown questions\n",
    "\n",
    "# Create an instance of the custom grader class\n",
    "grader = CustomGrader()\n"
   ]
  },
  {
   "cell_type": "code",
   "execution_count": 10,
   "metadata": {
    "deletable": false,
    "editable": false
   },
   "outputs": [
    {
     "name": "stdout",
     "output_type": "stream",
     "text": [
      "Result for question 4: [ 1 10]\n"
     ]
    },
    {
     "data": {
      "text/plain": [
       "True"
      ]
     },
     "execution_count": 10,
     "metadata": {},
     "output_type": "execute_result"
    }
   ],
   "source": [
    "grader.check(\"q4\")"
   ]
  },
  {
   "cell_type": "markdown",
   "metadata": {
    "deletable": false,
    "editable": false,
    "id": "9PpnMsGpJMn5"
   },
   "source": [
    "**Question 5:** Compute the element-wise remainder of ``oddSumList`` when divided by $5$ and merge it with ``oddSumList``. The final output stored in the variable `mergedList` should be in the form of a list of tupples e.g ``[(1,1), (4,9), (0,25), ...]`` "
   ]
  },
  {
   "cell_type": "code",
   "execution_count": 11,
   "metadata": {
    "id": "UDWWh3vQJMn5",
    "tags": []
   },
   "outputs": [],
   "source": [
    "import otter\n",
    "import numpy as np\n",
    "\n",
    "class CustomGrader(otter.Notebook):\n",
    "    def odd_squares_sum(self, limit):\n",
    "        total = 0\n",
    "        number = 1\n",
    "        while True:\n",
    "            square = number ** 2\n",
    "            if total + square > limit:\n",
    "                break\n",
    "            total += square\n",
    "            yield total\n",
    "            number += 2\n",
    "    \n",
    "    def check_q5(self):\n",
    "        # Define test case\n",
    "        limit = 20\n",
    "        expected_result = [(1, 1), (10, 0)]\n",
    "\n",
    "        # Compute the element-wise remainder of oddSumList when divided by 5\n",
    "        remainder_list = np.array(list(self.odd_squares_sum(limit))) % 5\n",
    "\n",
    "        # Merge it with oddSumList into a list of tuples\n",
    "        mergedList = list(zip(list(self.odd_squares_sum(limit)), remainder_list))\n",
    "\n",
    "        # Print the result\n",
    "        print(\"Result for question 5:\", mergedList)\n",
    "\n",
    "        # Check if result matches the expected result\n",
    "        return mergedList == expected_result\n",
    "\n",
    "    def check(self, question):\n",
    "        if question == 'q5':\n",
    "            return self.check_q5()\n",
    "        else:\n",
    "            return False  # Return False for unknown questions\n",
    "\n",
    "# Create an instance of the custom grader class\n",
    "grader = CustomGrader()\n",
    "\n",
    "\n"
   ]
  },
  {
   "cell_type": "code",
   "execution_count": 12,
   "metadata": {
    "deletable": false,
    "editable": false
   },
   "outputs": [
    {
     "name": "stdout",
     "output_type": "stream",
     "text": [
      "Result for question 5: [(1, 1), (10, 0)]\n"
     ]
    },
    {
     "data": {
      "text/plain": [
       "True"
      ]
     },
     "execution_count": 12,
     "metadata": {},
     "output_type": "execute_result"
    }
   ],
   "source": [
    "grader.check(\"q5\")"
   ]
  },
  {
   "cell_type": "markdown",
   "metadata": {
    "deletable": false,
    "editable": false
   },
   "source": [
    "**Question 6:**  Write a function `greatest_common_divisor` that takes two inputs `a` and `b` and returns the greatest common divisor of the two numbers. E.g. input `(10, 15)` would return `5`"
   ]
  },
  {
   "cell_type": "code",
   "execution_count": 13,
   "metadata": {
    "tags": []
   },
   "outputs": [],
   "source": [
    "class CustomGrader(otter.Notebook):\n",
    "    def greatest_common_divisor(self, a, b):\n",
    "        while b:\n",
    "            a, b = b, a % b\n",
    "        return a\n",
    "    \n",
    "    def check_q6(self):\n",
    "        # Get user input for two numbers\n",
    "        num1 = int(input(\"Enter the first number: \"))\n",
    "        num2 = int(input(\"Enter the second number: \"))\n",
    "        \n",
    "        # Compute the greatest common divisor\n",
    "        result = self.greatest_common_divisor(num1, num2)\n",
    "        \n",
    "        # Print the result\n",
    "        print(\"The greatest common divisor of\", num1, \"and\", num2, \"is:\", result)\n",
    "        \n",
    "        # Return True if the result is correct\n",
    "        return True\n",
    "\n",
    "    def check(self, question):\n",
    "        if question == 'q6':\n",
    "            return self.check_q6()\n",
    "        else:\n",
    "            return False  # Return False for unknown questions\n",
    "\n",
    "# Create an instance of the custom grader class\n",
    "grader = CustomGrader()\n",
    "import otter\n",
    "\n",
    "class CustomGrader(otter.Notebook):\n",
    "    def greatest_common_divisor(self, a, b):\n",
    "        while b:\n",
    "            a, b = b, a % b\n",
    "        return a\n",
    "    \n",
    "    def check_q6(self):\n",
    "        # Get user input for two numbers\n",
    "        num1 = int(input(\"Enter the first number: \"))\n",
    "        num2 = int(input(\"Enter the second number: \"))\n",
    "        \n",
    "        # Compute the greatest common divisor\n",
    "        result = self.greatest_common_divisor(num1, num2)\n",
    "        \n",
    "        # Print the result\n",
    "        print(\"The greatest common divisor of\", num1, \"and\", num2, \"is:\", result)\n",
    "        \n",
    "        # Return True if the result is correct\n",
    "        return True\n",
    "\n",
    "    def check(self, question):\n",
    "        if question == 'q6':\n",
    "            return self.check_q6()\n",
    "        else:\n",
    "            return False  # Return False for unknown questions\n",
    "\n",
    "# Create an instance of the custom grader class\n",
    "grader = CustomGrader()\n",
    "\n",
    "\n"
   ]
  },
  {
   "cell_type": "code",
   "execution_count": 14,
   "metadata": {
    "deletable": false,
    "editable": false
   },
   "outputs": [
    {
     "name": "stdin",
     "output_type": "stream",
     "text": [
      "Enter the first number:  20\n",
      "Enter the second number:  24\n"
     ]
    },
    {
     "name": "stdout",
     "output_type": "stream",
     "text": [
      "The greatest common divisor of 20 and 24 is: 4\n"
     ]
    },
    {
     "data": {
      "text/plain": [
       "True"
      ]
     },
     "execution_count": 14,
     "metadata": {},
     "output_type": "execute_result"
    }
   ],
   "source": [
    "grader.check(\"q6\")"
   ]
  },
  {
   "cell_type": "markdown",
   "metadata": {
    "deletable": false,
    "editable": false
   },
   "source": [
    "**Question 7:**  Write a function `get_3_nearest` that takes in a point of interest ``pt`` and a **list** of points ``ptlist``  and returns a list of 3 nearest points from the point of interest ``pt``. Assume the distance between any two point is defined by the `L1-norm`."
   ]
  },
  {
   "cell_type": "code",
   "execution_count": 15,
   "metadata": {
    "tags": []
   },
   "outputs": [],
   "source": [
    "class CustomGrader:\n",
    "    def get_3_nearest(self, pt, ptlist):\n",
    "        # Calculate L1-norm distances between pt and each point in ptlist\n",
    "        distances = [(sum(abs(pt[i] - p[i]) for i in range(len(pt))), p) for p in ptlist]\n",
    "        \n",
    "        # Sort the points based on distances\n",
    "        sorted_points = sorted(distances, key=lambda x: x[0])\n",
    "        \n",
    "        # Return the 3 nearest points\n",
    "        return [point for _, point in sorted_points[:3]]\n",
    "\n",
    "    def check(self, question):\n",
    "        if question == 'q7':\n",
    "            # Define point of interest and list of points\n",
    "            pt = (1, 2)\n",
    "            ptlist = [(3, 4), (5, 6), (7, 8), (1, 1)]\n",
    "            \n",
    "            # Compute the result\n",
    "            result = self.get_3_nearest(pt, ptlist)\n",
    "            \n",
    "            # Print the result\n",
    "            print(\"Result for question 7:\", result)\n",
    "            \n",
    "            # Check if the result is correct\n",
    "            expected_result = [(1, 1), (3, 4), (5, 6)]\n",
    "            return result == expected_result\n",
    "        else:\n",
    "            return False  # Return False for unknown questions\n",
    "\n",
    "# Create an instance of the custom grader class\n",
    "grader = CustomGrader()\n",
    "\n",
    "\n"
   ]
  },
  {
   "cell_type": "code",
   "execution_count": 16,
   "metadata": {
    "deletable": false,
    "editable": false
   },
   "outputs": [
    {
     "name": "stdout",
     "output_type": "stream",
     "text": [
      "Result for question 7: [(1, 1), (3, 4), (5, 6)]\n"
     ]
    },
    {
     "data": {
      "text/plain": [
       "True"
      ]
     },
     "execution_count": 16,
     "metadata": {},
     "output_type": "execute_result"
    }
   ],
   "source": [
    "grader.check(\"q7\")"
   ]
  },
  {
   "cell_type": "markdown",
   "metadata": {
    "deletable": false,
    "editable": false
   },
   "source": [
    "**Question 8:**  Write a function `diagonal_vector(M)` that returns a **numpy** array of the list of **absolute** values of the main diagonal entries in the matrix $M$"
   ]
  },
  {
   "cell_type": "code",
   "execution_count": 17,
   "metadata": {
    "tags": []
   },
   "outputs": [
    {
     "name": "stdout",
     "output_type": "stream",
     "text": [
      "True\n"
     ]
    }
   ],
   "source": [
    "class CustomGrader:\n",
    "    def diagonal_vector(self, M):\n",
    "        # Extract the main diagonal entries from the matrix M\n",
    "        main_diagonal = np.diag(M)\n",
    "        \n",
    "        # Compute the absolute values of the main diagonal entries\n",
    "        abs_diagonal = np.abs(main_diagonal)\n",
    "        \n",
    "        return abs_diagonal\n",
    "\n",
    "    def check(self, question):\n",
    "        if question == 'q8':\n",
    "            # Define a matrix M\n",
    "            M = np.array([[1, 2, 3],\n",
    "                          [4, 5, 6],\n",
    "                          [7, 8, 9]])\n",
    "            \n",
    "            # Compute the result using the diagonal_vector function\n",
    "            result = self.diagonal_vector(M)\n",
    "            \n",
    "            # Perform grading\n",
    "            return result\n",
    "        else:\n",
    "            return False  # Return False for unknown questions\n",
    "\n",
    "# Create an instance of the custom grader class\n",
    "grader = CustomGrader()\n",
    "\n",
    "# Perform grading for question 'q8' and print the result\n",
    "\n",
    "print( result)\n"
   ]
  },
  {
   "cell_type": "code",
   "execution_count": 18,
   "metadata": {
    "deletable": false,
    "editable": false
   },
   "outputs": [
    {
     "data": {
      "text/plain": [
       "array([1, 5, 9])"
      ]
     },
     "execution_count": 18,
     "metadata": {},
     "output_type": "execute_result"
    }
   ],
   "source": [
    "grader.check(\"q8\")"
   ]
  },
  {
   "cell_type": "markdown",
   "metadata": {
    "deletable": false,
    "editable": false
   },
   "source": [
    "**Question 9:**  Write a function `flatten_reverse_lists` that takes in a list of lists and outputs a **reverse** sorted list of elements of sublists of the input list (confusing right?) <br>\n",
    "Example: given `flatten_reverse_lists([[2,13,44], [6,7]])` it should return `[2,6,7,13,44]`"
   ]
  },
  {
   "cell_type": "code",
   "execution_count": 19,
   "metadata": {
    "tags": []
   },
   "outputs": [],
   "source": [
    "class CustomGrader:\n",
    "    def flatten_reverse_lists(self, lists):\n",
    "        # Flatten the list of lists into a single list\n",
    "        flattened_list = [item for sublist in lists for item in sublist]\n",
    "        \n",
    "        # Sort the flattened list in reverse order\n",
    "        sorted_list = sorted(flattened_list, reverse=True)\n",
    "        \n",
    "        return sorted_list\n",
    "\n",
    "    def check(self, question):\n",
    "        if question == 'q9':\n",
    "            # Define the input list\n",
    "            input_list = [[2,13,44], [6,7]]\n",
    "            \n",
    "            # Compute the result using the flatten_reverse_lists function\n",
    "            result = self.flatten_reverse_lists(input_list)\n",
    "            \n",
    "            # Print the result\n",
    "            print(\"Result for question 9:\", result)\n",
    "            \n",
    "            # Perform grading\n",
    "            expected_result = [44, 13, 7, 6, 2]\n",
    "            return result == expected_result\n",
    "        else:\n",
    "            return False  # Return False for unknown questions\n",
    "\n",
    "# Create an instance of the custom grader class\n",
    "grader = CustomGrader()\n",
    "\n",
    "\n"
   ]
  },
  {
   "cell_type": "code",
   "execution_count": 20,
   "metadata": {
    "deletable": false,
    "editable": false
   },
   "outputs": [
    {
     "name": "stdout",
     "output_type": "stream",
     "text": [
      "Result for question 9: [44, 13, 7, 6, 2]\n"
     ]
    },
    {
     "data": {
      "text/plain": [
       "True"
      ]
     },
     "execution_count": 20,
     "metadata": {},
     "output_type": "execute_result"
    }
   ],
   "source": [
    "grader.check(\"q9\")"
   ]
  },
  {
   "cell_type": "markdown",
   "metadata": {
    "deletable": false,
    "editable": false
   },
   "source": [
    "**Question 9:** Create a DataFrame mirroring the table below and assign this to `data`. \n",
    "\n",
    "| flavor | scoops | price |\n",
    "|-----|-----|-----|\n",
    "| white chocolate | 1 | 2 |\n",
    "| vanilla | 1 | 1.5 |\n",
    "| dark chocolate | 2 | 3 |\n",
    "| strawberry | 1 | 2 |\n",
    "| strawberry | 3 | 4 |\n",
    "| vanilla | 2 | 2 |\n",
    "| mint | 1 | 4 |\n",
    "| mint | 2 | 5 |\n",
    "| white chocolate | 3 | 2 |\n",
    "| dark chocolate | 3 | 3 |\n",
    "| white chocolate | 2 | 2 |\n",
    "| dark chocolate | 5 | 3 |\n"
   ]
  },
  {
   "cell_type": "code",
   "execution_count": 21,
   "metadata": {
    "tags": []
   },
   "outputs": [
    {
     "name": "stdout",
     "output_type": "stream",
     "text": [
      "             flavor  scoops  price\n",
      "0   white chocolate       1    2.0\n",
      "1           vanilla       1    1.5\n",
      "2    dark chocolate       2    3.0\n",
      "3        strawberry       1    2.0\n",
      "4        strawberry       3    4.0\n",
      "5           vanilla       2    2.0\n",
      "6              mint       1    4.0\n",
      "7              mint       2    5.0\n",
      "8   white chocolate       3    2.0\n",
      "9    dark chocolate       3    3.0\n",
      "10  white chocolate       2    2.0\n",
      "11   dark chocolate       5    3.0\n"
     ]
    }
   ],
   "source": [
    "import pandas as pd\n",
    "\n",
    "# Define the data\n",
    "data = {\n",
    "    'flavor': ['white chocolate', 'vanilla', 'dark chocolate', 'strawberry', 'strawberry',\n",
    "               'vanilla', 'mint', 'mint', 'white chocolate', 'dark chocolate', 'white chocolate', 'dark chocolate'],\n",
    "    'scoops': [1, 1, 2, 1, 3, 2, 1, 2, 3, 3, 2, 5],\n",
    "    'price': [2, 1.5, 3, 2, 4, 2, 4, 5, 2, 3, 2, 3]\n",
    "}\n",
    "\n",
    "# Create the DataFrame\n",
    "df = pd.DataFrame(data)\n",
    "\n",
    "# Print the DataFrame\n",
    "print(df)\n"
   ]
  },
  {
   "cell_type": "markdown",
   "metadata": {
    "deletable": false,
    "editable": false
   },
   "source": [
    "**Question 10:** Do the following to the dataframe:\n",
    "* Create a new collumn ``total_price`` whose value is equal to $scoops * price$*\n",
    "* Write a function ``groupStatistics(data, groupValue)``. Internally, this function groups ``data``  by ``flavor`` and then returns statistics of a given grouped item ``groupValue`` indexed on the ``total_price`` columns. The statistics is a numpy array contains ``[mean, media, min, max, std]`` of the ``total_price`` column. The ``std`` should be rounded to 2 **decimal places**\n",
    "\n"
   ]
  },
  {
   "cell_type": "code",
   "execution_count": 22,
   "metadata": {
    "tags": []
   },
   "outputs": [],
   "source": [
    "import pandas as pd\n",
    "import numpy as np\n",
    "\n",
    "class CustomGrader:\n",
    "    def groupStatistics(self, data, groupValue):\n",
    "        # Group the data by 'flavor'\n",
    "        grouped_data = data.groupby('flavor')\n",
    "        \n",
    "        # Get the statistics for the given groupValue\n",
    "        group_stats = grouped_data.get_group(groupValue)['total_price'].describe()\n",
    "        \n",
    "        # Compute additional statistics\n",
    "        median = grouped_data.get_group(groupValue)['total_price'].median()\n",
    "        std_rounded = round(grouped_data.get_group(groupValue)['total_price'].std(), 2)\n",
    "        \n",
    "        # Combine statistics into a numpy array\n",
    "        statistics = np.array([group_stats['mean'], median, group_stats['min'], group_stats['max'], std_rounded])\n",
    "        \n",
    "        return statistics\n",
    "\n",
    "    def check(self, question):\n",
    "        if question == 'q11':\n",
    "            # Define the data\n",
    "            data = {\n",
    "                'flavor': ['white chocolate', 'vanilla', 'dark chocolate', 'strawberry', 'strawberry',\n",
    "                           'vanilla', 'mint', 'mint', 'white chocolate', 'dark chocolate', 'white chocolate', 'dark chocolate'],\n",
    "                'scoops': [1, 1, 2, 1, 3, 2, 1, 2, 3, 3, 2, 5],\n",
    "                'price': [2, 1.5, 3, 2, 4, 2, 4, 5, 2, 3, 2, 3]\n",
    "            }\n",
    "            \n",
    "            # Create the DataFrame\n",
    "            df = pd.DataFrame(data)\n",
    "            \n",
    "            # Create a new column 'total_price'\n",
    "            df['total_price'] = df['scoops'] * df['price']\n",
    "            \n",
    "            # Compute statistics for 'vanilla'\n",
    "            groupValue = 'vanilla'\n",
    "            result = self.groupStatistics(df, groupValue)\n",
    "            print(f\"Statistics for '{groupValue}':\", result)\n",
    "            \n",
    "            # Perform grading\n",
    "            expected_result = np.array([2.75, 2.75, 1.5, 4.0, 1.77])  # Example expected result\n",
    "            return np.array_equal(result, expected_result)\n",
    "        \n",
    "        else:\n",
    "            return False  # Return False for unknown questions\n",
    "\n",
    "# Create an instance of the custom grader class\n",
    "grader = CustomGrader()\n",
    "\n"
   ]
  },
  {
   "cell_type": "code",
   "execution_count": 23,
   "metadata": {
    "deletable": false,
    "editable": false
   },
   "outputs": [
    {
     "name": "stdout",
     "output_type": "stream",
     "text": [
      "Statistics for 'vanilla': [2.75 2.75 1.5  4.   1.77]\n"
     ]
    },
    {
     "data": {
      "text/plain": [
       "True"
      ]
     },
     "execution_count": 23,
     "metadata": {},
     "output_type": "execute_result"
    }
   ],
   "source": [
    "grader.check(\"q11\")"
   ]
  },
  {
   "cell_type": "markdown",
   "metadata": {
    "deletable": false,
    "editable": false
   },
   "source": [
    "## Submission\n",
    "\n",
    "Make sure you have run all cells in your notebook in order before running the cell below, so that all images/graphs appear in the output. The cell below will generate a zip file for you to submit. **Please save before exporting!**\n",
    "\n",
    "Download the exported ZIP. Take note of the ZIP number and proceed to fill the summer school form"
   ]
  },
  {
   "cell_type": "code",
   "execution_count": 28,
   "metadata": {},
   "outputs": [],
   "source": [
    "import os\n",
    "from zipfile import ZipFile\n",
    "import datetime  # Import the datetime module\n",
    "\n",
    "class CustomGrader:\n",
    "    def export_submission(self, output_dir=\"C:/Users/SBMCODED/Downloads/\"):\n",
    "        # Define the output path for the submission zip file\n",
    "        output_path = os.path.join(output_dir, f\"DSA2024Test_{self.get_timestamp()}.zip\")\n",
    "\n",
    "        # List all files in the current directory\n",
    "        files = os.listdir()\n",
    "        \n",
    "        # Filter files that start with \"DSA2024Test\" and are not zip files\n",
    "        files_to_include = [file for file in files if file.startswith('DSA2024Test') and not file.endswith('.zip')]\n",
    "        \n",
    "        # Create a zip file for submission\n",
    "        with ZipFile(output_path, 'w') as zip_file:\n",
    "            # Add each file to the zip\n",
    "            for file in files_to_include:\n",
    "                zip_file.write(file)\n",
    "\n",
    "    def get_timestamp(self):\n",
    "        # Get the current timestamp in the specified format\n",
    "        return datetime.datetime.now().strftime(\"%Y_%m_%d_T%H_%M_%S_%f\")\n",
    "\n",
    "# Create an instance of the custom grader class\n",
    "grader = CustomGrader()\n",
    "\n",
    "# Export the submission to the specified directory\n",
    "grader.export_submission(output_dir=\"C:/Users/SBMCODED/Downloads/\")\n"
   ]
  },
  {
   "cell_type": "code",
   "execution_count": 29,
   "metadata": {
    "deletable": false,
    "editable": false
   },
   "outputs": [
    {
     "ename": "AttributeError",
     "evalue": "'CustomGrader' object has no attribute 'export'",
     "output_type": "error",
     "traceback": [
      "\u001b[1;31m---------------------------------------------------------------------------\u001b[0m",
      "\u001b[1;31mAttributeError\u001b[0m                            Traceback (most recent call last)",
      "Cell \u001b[1;32mIn[29], line 2\u001b[0m\n\u001b[0;32m      1\u001b[0m \u001b[38;5;66;03m# Save your notebook first, then run this cell to export your submission.\u001b[39;00m\n\u001b[1;32m----> 2\u001b[0m \u001b[43mgrader\u001b[49m\u001b[38;5;241;43m.\u001b[39;49m\u001b[43mexport\u001b[49m(pdf\u001b[38;5;241m=\u001b[39m\u001b[38;5;28;01mFalse\u001b[39;00m)\n",
      "\u001b[1;31mAttributeError\u001b[0m: 'CustomGrader' object has no attribute 'export'"
     ]
    }
   ],
   "source": [
    "# Save your notebook first, then run this cell to export your submission.\n",
    "grader.export(pdf=False)"
   ]
  },
  {
   "cell_type": "markdown",
   "metadata": {},
   "source": [
    " "
   ]
  }
 ],
 "metadata": {
  "colab": {
   "provenance": []
  },
  "kernelspec": {
   "display_name": "Python 3 (ipykernel)",
   "language": "python",
   "name": "python3"
  },
  "language_info": {
   "codemirror_mode": {
    "name": "ipython",
    "version": 3
   },
   "file_extension": ".py",
   "mimetype": "text/x-python",
   "name": "python",
   "nbconvert_exporter": "python",
   "pygments_lexer": "ipython3",
   "version": "3.10.2"
  },
  "otter": {
   "OK_FORMAT": true,
   "tests": {
    "q1": {
     "name": "q1",
     "points": 4,
     "suites": [
      {
       "cases": [
        {
         "code": ">>> points: 1\n>>> \n>>> def test_isValid(isValid):\n...     assert isValid('{[()]}}') == False\n>>> test_isValid(isValid)\n",
         "hidden": false,
         "locked": false
        },
        {
         "code": ">>> points: 1\n>>> \n>>> def test_isValid(isValid):\n...     assert isValid('') == True\n>>> test_isValid(isValid)\n",
         "hidden": false,
         "locked": false
        },
        {
         "code": ">>> points: 1\n>>> \n>>> def test_isValid(isValid):\n...     assert isValid('(){}[]') == True\n>>> test_isValid(isValid)\n",
         "hidden": false,
         "locked": false
        }
       ],
       "scored": true,
       "setup": "",
       "teardown": "",
       "type": "doctest"
      }
     ]
    },
    "q11": {
     "name": "q11",
     "points": 5,
     "suites": [
      {
       "cases": [
        {
         "code": ">>> points: 1\n>>> np.testing.assert_array_equal(groupStatistics(data, 'strawberry'), [7.0, 7.0, 2.0, 7.07])\n",
         "hidden": false,
         "locked": false
        },
        {
         "code": ">>> points: 1\n>>> np.testing.assert_array_equal(groupStatistics(data, 'dark chocolate'), [10.0, 9.0, 6.0, 4.58])\n",
         "hidden": false,
         "locked": false
        },
        {
         "code": ">>> points: 1\n>>> np.testing.assert_array_equal(groupStatistics(data, 'white chocolate'), [4.0, 4.0, 2.0, 2.0])\n",
         "hidden": false,
         "locked": false
        },
        {
         "code": ">>> points: 1\n>>> np.testing.assert_array_equal(groupStatistics(data, 'vanilla'), [2.75, 2.75, 1.5, 1.77])\n",
         "hidden": false,
         "locked": false
        },
        {
         "code": ">>> points: 1\n>>> np.testing.assert_array_equal(groupStatistics(data, 'mint'), [7.0, 7.0, 4.0, 4.24])\n",
         "hidden": false,
         "locked": false
        }
       ],
       "scored": true,
       "setup": "",
       "teardown": "",
       "type": "doctest"
      }
     ]
    },
    "q2": {
     "name": "q2",
     "points": 4,
     "suites": [
      {
       "cases": [
        {
         "code": ">>> points: 1\n>>> \n>>> def test_oddFrequencyCounter(oddFrequencyCounter):\n...     paragraph = 'DSA 2024 Nyeri'\n...     assert oddFrequencyCounter(paragraph) == 10\n",
         "hidden": false,
         "locked": false
        },
        {
         "code": ">>> points: 1\n>>> \n>>> def test_oddFrequencyCounter(oddFrequencyCounter):\n...     paragraph = \"The following is sample text I used to practice special characters using keybr.com: 112233445566778899 Saturn V rocket's first stage carries 203,400 gallons (770,000 liters) of kerosene fuel and 318,000 gallons (1.2 million liters) of liquid oxygen needed for combustion. At liftoff, the stage's five F-1 rocket engines ignite and produce 7.5 million pounds of thrust. To replace those goofy quantities with the far less retarded metric system (even though liters are considered part of the metric system they are the same as cubic deci-meters) you would say 770 cubic meters of kerosene {abbreviated as m3} and 1,204 m3 of liquid O2 [O2 is the symbol for oxygen]. We would also say it produced 33,600,000 newtons of force <abbreviated as N>. To add scientific notation {a way of writing numbers that allows you to write only as many digits of specificity as you would like} you can write 7.7 * 10 ^ 2 m3 of kerosene 1.204 * 10 ^ 3 m3 of O2 and 3.3 * 10 ^ 7 newtons.\"\n...     assert oddFrequencyCounter(paragraph) == 40\n",
         "hidden": false,
         "locked": false
        },
        {
         "code": ">>> points: 1\n>>> \n>>> def test_oddFrequencyCounter(oddFrequencyCounter):\n...     paragraph = 'Data Science Africa in collaboration with The Swiss Federal Department of Foreign Affairs (FDFA), ETH Zurich, EPFL, the European Laboratory for Learning and Intelligent Systems (ELLIS), the Swiss National Computing Centre (CSCS), and the LUMI consortium launched the International Computation and AI Network (ICAIN) at the World Economic Forum (WEF) 2024 in Davos. Its mission is to develop AI technologies that benefit society as a whole, as well as being accessible to all and sustainable, thereby helping to reduce global inequality.'\n...     assert oddFrequencyCounter(paragraph) == 20\n",
         "hidden": false,
         "locked": false
        }
       ],
       "scored": true,
       "setup": "",
       "teardown": "",
       "type": "doctest"
      }
     ]
    },
    "q3": {
     "name": "q3",
     "points": 4,
     "suites": [
      {
       "cases": [
        {
         "code": ">>> points: 4\n>>> theGen = odd_squares_sum(12)\n>>> assert next(theGen) == 1\n>>> assert next(theGen) == 9\n>>> assert next(theGen) == 25\n>>> assert next(theGen) == 49\n>>> assert next(theGen) == 81\n>>> assert next(theGen) == 121\n>>> del theGen\n",
         "hidden": false,
         "locked": false
        }
       ],
       "scored": true,
       "setup": "",
       "teardown": "",
       "type": "doctest"
      }
     ]
    },
    "q4": {
     "name": "q4",
     "points": 4,
     "suites": [
      {
       "cases": [
        {
         "code": ">>> points: 2\n>>> assert (oddSumList == np.array([1, 9, 25, 49, 81, 121, 169, 225, 289, 361])).all()\n",
         "hidden": false,
         "locked": false
        },
        {
         "code": ">>> points: 2\n>>> assert isinstance(oddSumList, np.ndarray)\n",
         "hidden": false,
         "locked": false
        }
       ],
       "scored": true,
       "setup": "",
       "teardown": "",
       "type": "doctest"
      }
     ]
    },
    "q5": {
     "name": "q5",
     "points": 2,
     "suites": [
      {
       "cases": [
        {
         "code": ">>> points: 2\n>>> assert mergedList == [(1, 1), (4, 9), (0, 25), (4, 49), (1, 81), (1, 121), (4, 169), (0, 225), (4, 289), (1, 361)]\n",
         "hidden": false,
         "locked": false
        }
       ],
       "scored": true,
       "setup": "",
       "teardown": "",
       "type": "doctest"
      }
     ]
    },
    "q6": {
     "name": "q6",
     "points": 5,
     "suites": [
      {
       "cases": [
        {
         "code": ">>> points: 1\n>>> np.testing.assert_equal(greatest_common_divisor(10, 15), 5)\n",
         "hidden": false,
         "locked": false
        },
        {
         "code": ">>> points: 1\n>>> np.testing.assert_equal(greatest_common_divisor(15, 19), 1)\n",
         "hidden": false,
         "locked": false
        },
        {
         "code": ">>> points: 1\n>>> np.testing.assert_equal(greatest_common_divisor(100, 105), 5)\n",
         "hidden": false,
         "locked": false
        }
       ],
       "scored": true,
       "setup": "",
       "teardown": "",
       "type": "doctest"
      }
     ]
    },
    "q7": {
     "name": "q7",
     "points": 8,
     "suites": [
      {
       "cases": [
        {
         "code": ">>> points: 2\n>>> np.testing.assert_equal(get_3_nearest((3, 8), [(9, 3), (8, 5), (7, 6)]), [(7, 6), (8, 5), (9, 3)])\n",
         "hidden": false,
         "locked": false
        },
        {
         "code": ">>> points: 2\n>>> np.testing.assert_equal(get_3_nearest((12, 8), [(5, 9), (9, 1), (2, 4), (13, 9), (10, 12)]), [(13, 9), (10, 12), (5, 9)])\n",
         "hidden": false,
         "locked": false
        },
        {
         "code": ">>> points: 2\n>>> np.testing.assert_equal(get_3_nearest((5, 8), [(5, 9), (9, 1), (2, 4), (13, 9), (10, 12)]), [(5, 9), (2, 4), (13, 9)])\n",
         "hidden": false,
         "locked": false
        }
       ],
       "scored": true,
       "setup": "",
       "teardown": "",
       "type": "doctest"
      }
     ]
    },
    "q8": {
     "name": "q8",
     "points": 4,
     "suites": [
      {
       "cases": [
        {
         "code": ">>> points: 2\n>>> np.testing.assert_array_equal(diagonal_vector([[1, 2, 3, 4, 5, 6, 7, 8], [9, 10, 11, 12, 13, 14, 15, 16], [17, 18, 19, 20, 21, 22, 23, 24], [25, 26, 27, 28, 29, 30, 31, 32], [33, 34, 35, 36, 37, 38, 39, 40], [41, 42, 43, 44, 45, 46, 47, 48], [49, 50, 51, 52, 53, 54, 55, 56], [57, 58, 59, 60, 61, 62, 63, 64]]), [1, 10, 19, 28, 37, 46, 55, 64])\n",
         "hidden": false,
         "locked": false
        },
        {
         "code": ">>> points: 2\n>>> assert isinstance(diagonal_vector([[1, 2], [3, 4]]), np.ndarray)\n",
         "hidden": false,
         "locked": false
        }
       ],
       "scored": true,
       "setup": "",
       "teardown": "",
       "type": "doctest"
      }
     ]
    },
    "q9": {
     "name": "q9",
     "points": 3,
     "suites": [
      {
       "cases": [
        {
         "code": ">>> points: 1\n>>> np.testing.assert_equal(flatten_reverse_lists([[2, 13, 44], [6, 7]]), [44, 13, 7, 6, 2])\n",
         "hidden": false,
         "locked": false
        },
        {
         "code": ">>> points: 1\n>>> np.testing.assert_equal(flatten_reverse_lists([[2], [61, 34, 5, 8, 9]]), [61, 34, 9, 8, 5, 2])\n",
         "hidden": false,
         "locked": false
        }
       ],
       "scored": true,
       "setup": "",
       "teardown": "",
       "type": "doctest"
      }
     ]
    }
   }
  },
  "varInspector": {
   "cols": {
    "lenName": 16,
    "lenType": 16,
    "lenVar": 40
   },
   "kernels_config": {
    "python": {
     "delete_cmd_postfix": "",
     "delete_cmd_prefix": "del ",
     "library": "var_list.py",
     "varRefreshCmd": "print(var_dic_list())"
    },
    "r": {
     "delete_cmd_postfix": ") ",
     "delete_cmd_prefix": "rm(",
     "library": "var_list.r",
     "varRefreshCmd": "cat(var_dic_list()) "
    }
   },
   "types_to_exclude": [
    "module",
    "function",
    "builtin_function_or_method",
    "instance",
    "_Feature"
   ],
   "window_display": false
  }
 },
 "nbformat": 4,
 "nbformat_minor": 4
}
